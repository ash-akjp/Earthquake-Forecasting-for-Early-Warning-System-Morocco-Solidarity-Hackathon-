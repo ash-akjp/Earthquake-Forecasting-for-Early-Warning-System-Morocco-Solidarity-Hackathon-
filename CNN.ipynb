{
  "nbformat": 4,
  "nbformat_minor": 0,
  "metadata": {
    "colab": {
      "provenance": []
    },
    "kernelspec": {
      "name": "python3",
      "display_name": "Python 3"
    },
    "language_info": {
      "name": "python"
    }
  },
  "cells": [
    {
      "cell_type": "code",
      "source": [
        "from google.colab import drive\n",
        "drive.mount('/content/drive')"
      ],
      "metadata": {
        "colab": {
          "base_uri": "https://localhost:8080/"
        },
        "id": "xVVTnFoXOo7k",
        "outputId": "9d70dada-676d-4822-c99c-f98cc9d228ba"
      },
      "execution_count": null,
      "outputs": [
        {
          "output_type": "stream",
          "name": "stdout",
          "text": [
            "Drive already mounted at /content/drive; to attempt to forcibly remount, call drive.mount(\"/content/drive\", force_remount=True).\n"
          ]
        }
      ]
    },
    {
      "cell_type": "code",
      "source": [
        "import numpy as np\n",
        "import pandas as pd\n",
        "import tensorflow as tf\n",
        "from sklearn.model_selection import train_test_split\n",
        "from sklearn.preprocessing import StandardScaler\n",
        "from tensorflow.keras.models import Sequential\n",
        "from tensorflow.keras.layers import Dense, Dropout\n",
        "from tensorflow.keras.optimizers import Adam\n",
        "from tensorflow.keras.callbacks import EarlyStopping"
      ],
      "metadata": {
        "id": "pFQC3nwR4fds"
      },
      "execution_count": null,
      "outputs": []
    },
    {
      "cell_type": "code",
      "source": [
        "# Load your dataset (replace 'your_dataset.csv' with your actual dataset)\n",
        "df = pd.read_csv('/content/drive/MyDrive/dataset/sample dataset/cnn_model_input.csv')\n",
        "df = df.drop(['Unnamed: 0'],axis=1)\n",
        "\n",
        "# Extract features and labels\n",
        "X = df.iloc[:, :-1].values  # Features (all columns except the last one)\n",
        "Y = df.iloc[:, -1].values   # Labels (the last column)"
      ],
      "metadata": {
        "id": "92Mg3wS13mif"
      },
      "execution_count": null,
      "outputs": []
    },
    {
      "cell_type": "code",
      "source": [
        "# Split the dataset into training and testing sets\n",
        "X_train, X_test, y_train, y_test = train_test_split(X, Y, test_size=0.2, random_state=42,stratify=Y)\n",
        "\n",
        "# Standardize the features (optional but recommended)\n",
        "scaler = StandardScaler()\n",
        "X_train = scaler.fit_transform(X_train)\n",
        "X_test = scaler.transform(X_test)\n",
        "\n",
        "# Build a deep neural network model\n",
        "model = Sequential()\n",
        "\n",
        "# Add input layer\n",
        "model.add(Dense(units=128, activation='relu', input_dim=X_train.shape[1]))\n",
        "model.add(Dropout(0.3))  # Optional dropout for regularization\n",
        "\n",
        "# Add hidden layers\n",
        "model.add(Dense(units=64, activation='relu'))\n",
        "model.add(Dropout(0.3))\n",
        "\n",
        "# Add output layer\n",
        "model.add(Dense(units=1, activation='sigmoid'))\n",
        "\n",
        "# Compile the model\n",
        "model.compile(optimizer=Adam(learning_rate=0.001), loss='binary_crossentropy', metrics=['accuracy'])\n",
        "\n",
        "# Early stopping callback to prevent overfitting\n",
        "early_stopping = EarlyStopping(monitor='val_loss', patience=5, restore_best_weights=True)\n",
        "\n",
        "# Train the model\n",
        "history = model.fit(X_train, y_train, epochs=13, batch_size=32, validation_split=0.2)\n",
        "\n",
        "# Evaluate the model\n",
        "test_loss, test_accuracy = model.evaluate(X_test, y_test)\n",
        "print(f\"Test Loss: {test_loss}, Test Accuracy: {test_accuracy}\")\n",
        "\n",
        "# Make predictions\n",
        "y_pred = model.predict(X_test)\n",
        "\n",
        "# You can use y_pred for further analysis or evaluation\n"
      ],
      "metadata": {
        "colab": {
          "base_uri": "https://localhost:8080/"
        },
        "id": "CNPybCsnmGwf",
        "outputId": "f3e57361-7fa5-49f9-d63f-1ff60004bfbd"
      },
      "execution_count": null,
      "outputs": [
        {
          "output_type": "stream",
          "name": "stdout",
          "text": [
            "Epoch 1/13\n",
            "40/40 [==============================] - 3s 15ms/step - loss: 0.9491 - accuracy: 0.4797 - val_loss: 0.6922 - val_accuracy: 0.4563\n",
            "Epoch 2/13\n",
            "40/40 [==============================] - 0s 8ms/step - loss: 0.7039 - accuracy: 0.5445 - val_loss: 0.6859 - val_accuracy: 0.4375\n",
            "Epoch 3/13\n",
            "40/40 [==============================] - 0s 8ms/step - loss: 1.6626 - accuracy: 0.4914 - val_loss: 0.6856 - val_accuracy: 0.5719\n",
            "Epoch 4/13\n",
            "40/40 [==============================] - 0s 9ms/step - loss: 0.6929 - accuracy: 0.5234 - val_loss: 0.6886 - val_accuracy: 0.5688\n",
            "Epoch 5/13\n",
            "40/40 [==============================] - 0s 9ms/step - loss: 0.6823 - accuracy: 0.5195 - val_loss: 0.6887 - val_accuracy: 0.4437\n",
            "Epoch 6/13\n",
            "40/40 [==============================] - 0s 8ms/step - loss: 0.6886 - accuracy: 0.5367 - val_loss: 0.6857 - val_accuracy: 0.5688\n",
            "Epoch 7/13\n",
            "40/40 [==============================] - 0s 8ms/step - loss: 0.6734 - accuracy: 0.5445 - val_loss: 0.6791 - val_accuracy: 0.5656\n",
            "Epoch 8/13\n",
            "40/40 [==============================] - 0s 8ms/step - loss: 0.6995 - accuracy: 0.5391 - val_loss: 0.6959 - val_accuracy: 0.4469\n",
            "Epoch 9/13\n",
            "40/40 [==============================] - 0s 8ms/step - loss: 0.6796 - accuracy: 0.5516 - val_loss: 0.6815 - val_accuracy: 0.5844\n",
            "Epoch 10/13\n",
            "40/40 [==============================] - 0s 8ms/step - loss: 0.6759 - accuracy: 0.5469 - val_loss: 0.6780 - val_accuracy: 0.5969\n",
            "Epoch 11/13\n",
            "40/40 [==============================] - 0s 8ms/step - loss: 0.6641 - accuracy: 0.5820 - val_loss: 0.6767 - val_accuracy: 0.5750\n",
            "Epoch 12/13\n",
            "40/40 [==============================] - 0s 9ms/step - loss: 0.6854 - accuracy: 0.5594 - val_loss: 0.6801 - val_accuracy: 0.5875\n",
            "Epoch 13/13\n",
            "40/40 [==============================] - 0s 9ms/step - loss: 0.6622 - accuracy: 0.5625 - val_loss: 0.6851 - val_accuracy: 0.5719\n",
            "13/13 [==============================] - 0s 3ms/step - loss: 0.6838 - accuracy: 0.5625\n",
            "Test Loss: 0.6838005781173706, Test Accuracy: 0.5625\n",
            "13/13 [==============================] - 0s 2ms/step\n"
          ]
        }
      ]
    },
    {
      "cell_type": "code",
      "source": [
        "from sklearn import metrics\n",
        "\n",
        "fpr, tpr, thresholds = metrics.roc_curve(y_test, y_pred)"
      ],
      "metadata": {
        "id": "tnrRsbSx1Zj3"
      },
      "execution_count": null,
      "outputs": []
    },
    {
      "cell_type": "code",
      "source": [
        "from sklearn.model_selection import train_test_split\n",
        "from sklearn.preprocessing import MinMaxScaler\n",
        "from tensorflow.keras.models import Sequential\n",
        "from tensorflow.keras.layers import Dense, Dropout, BatchNormalization\n",
        "from tensorflow.keras.optimizers import Adam\n",
        "from tensorflow.keras.callbacks import EarlyStopping, LearningRateScheduler\n",
        "# Split the dataset into training and testing sets\n",
        "X_train, X_test, y_train, y_test = train_test_split(X, Y, test_size=0.2, random_state=42, stratify=Y)\n",
        "# Standardize the features (optional but recommended)\n",
        "scaler = MinMaxScaler()\n",
        "X_train = scaler.fit_transform(X_train)\n",
        "X_test = scaler.transform(X_test)\n",
        "# Build a deep neural network model\n",
        "model = Sequential()\n",
        "# Add input layer\n",
        "model.add(Dense(units=128, activation='relu', input_dim=X_train.shape[1]))\n",
        "model.add(BatchNormalization())\n",
        "model.add(Dropout(0.3))\n",
        "# Add hidden layers\n",
        "model.add(Dense(units=64, activation='relu', kernel_regularizer='l2'))\n",
        "model.add(BatchNormalization())\n",
        "model.add(Dropout(0.3))\n",
        "# Add output layer\n",
        "model.add(Dense(units=1, activation='sigmoid'))\n",
        "# Compile the model with a learning rate scheduler\n",
        "def lr_scheduler(epoch, lr):\n",
        "    if epoch % 10 == 0 and epoch > 0:\n",
        "        lr = lr / 2\n",
        "    return lr\n",
        "model.compile(optimizer=Adam(learning_rate=0.001), loss='binary_crossentropy', metrics=['accuracy'])\n",
        "# Early stopping callback to prevent overfitting\n",
        "early_stopping = EarlyStopping(monitor='val_loss', patience=10, restore_best_weights=True)\n",
        "# Learning rate scheduler callback\n",
        "lr_scheduler_callback = LearningRateScheduler(lr_scheduler)\n",
        "# Train the model\n",
        "history = model.fit(\n",
        "    X_train, y_train, epochs=50, batch_size=32, validation_split=0.2,\n",
        "    callbacks=[early_stopping, lr_scheduler_callback]\n",
        ")\n",
        "# Evaluate the model\n",
        "test_loss, test_accuracy = model.evaluate(X_test, y_test)\n",
        "print(f\"Test Loss: {test_loss}, Test Accuracy: {test_accuracy}\")\n",
        "# Make predictions\n",
        "y_pred = model.predict(X_test)"
      ],
      "metadata": {
        "colab": {
          "base_uri": "https://localhost:8080/"
        },
        "id": "jxMmmbdDN3uZ",
        "outputId": "34b53a43-94ba-4e59-a847-c60bd61bb586"
      },
      "execution_count": null,
      "outputs": [
        {
          "output_type": "stream",
          "name": "stdout",
          "text": [
            "Epoch 1/50\n",
            "40/40 [==============================] - 4s 20ms/step - loss: 1.4319 - accuracy: 0.5437 - val_loss: 1.3465 - val_accuracy: 0.4563 - lr: 0.0010\n",
            "Epoch 2/50\n",
            "40/40 [==============================] - 0s 12ms/step - loss: 1.1869 - accuracy: 0.5617 - val_loss: 1.1941 - val_accuracy: 0.4563 - lr: 0.0010\n",
            "Epoch 3/50\n",
            "40/40 [==============================] - 0s 9ms/step - loss: 1.0381 - accuracy: 0.5609 - val_loss: 1.2473 - val_accuracy: 0.4563 - lr: 0.0010\n",
            "Epoch 4/50\n",
            "40/40 [==============================] - 0s 10ms/step - loss: 0.9541 - accuracy: 0.5883 - val_loss: 1.0905 - val_accuracy: 0.4563 - lr: 0.0010\n",
            "Epoch 5/50\n",
            "40/40 [==============================] - 0s 8ms/step - loss: 0.8912 - accuracy: 0.5703 - val_loss: 0.9044 - val_accuracy: 0.4563 - lr: 0.0010\n",
            "Epoch 6/50\n",
            "40/40 [==============================] - 0s 10ms/step - loss: 0.8547 - accuracy: 0.5922 - val_loss: 0.9390 - val_accuracy: 0.4563 - lr: 0.0010\n",
            "Epoch 7/50\n",
            "40/40 [==============================] - 0s 10ms/step - loss: 0.8135 - accuracy: 0.6180 - val_loss: 1.2009 - val_accuracy: 0.4563 - lr: 0.0010\n",
            "Epoch 8/50\n",
            "40/40 [==============================] - 0s 10ms/step - loss: 0.8166 - accuracy: 0.6000 - val_loss: 1.1517 - val_accuracy: 0.4563 - lr: 0.0010\n",
            "Epoch 9/50\n",
            "40/40 [==============================] - 0s 10ms/step - loss: 0.7971 - accuracy: 0.5844 - val_loss: 2.4256 - val_accuracy: 0.4563 - lr: 0.0010\n",
            "Epoch 10/50\n",
            "40/40 [==============================] - 0s 9ms/step - loss: 0.7704 - accuracy: 0.5961 - val_loss: 2.4720 - val_accuracy: 0.4563 - lr: 0.0010\n",
            "Epoch 11/50\n",
            "40/40 [==============================] - 0s 8ms/step - loss: 0.7601 - accuracy: 0.5984 - val_loss: 2.2931 - val_accuracy: 0.4563 - lr: 5.0000e-04\n",
            "Epoch 12/50\n",
            "40/40 [==============================] - 0s 10ms/step - loss: 0.7506 - accuracy: 0.5984 - val_loss: 1.7092 - val_accuracy: 0.4563 - lr: 5.0000e-04\n",
            "Epoch 13/50\n",
            "40/40 [==============================] - 0s 8ms/step - loss: 0.7548 - accuracy: 0.5977 - val_loss: 2.3783 - val_accuracy: 0.4563 - lr: 5.0000e-04\n",
            "Epoch 14/50\n",
            "40/40 [==============================] - 0s 9ms/step - loss: 0.7471 - accuracy: 0.6008 - val_loss: 1.8743 - val_accuracy: 0.4563 - lr: 5.0000e-04\n",
            "Epoch 15/50\n",
            "40/40 [==============================] - 0s 10ms/step - loss: 0.7280 - accuracy: 0.6289 - val_loss: 2.8291 - val_accuracy: 0.4563 - lr: 5.0000e-04\n",
            "13/13 [==============================] - 0s 3ms/step - loss: 0.8947 - accuracy: 0.5000\n",
            "Test Loss: 0.8947163224220276, Test Accuracy: 0.5\n",
            "13/13 [==============================] - 0s 2ms/step\n"
          ]
        }
      ]
    },
    {
      "cell_type": "code",
      "source": [
        "# pip install scikitplot\n",
        "print(fpr, tpr, thresholds)"
      ],
      "metadata": {
        "colab": {
          "base_uri": "https://localhost:8080/"
        },
        "id": "bR4vMMll2Vx4",
        "outputId": "4904c734-8361-4dc3-e7e6-37ff0b8013ce"
      },
      "execution_count": null,
      "outputs": [
        {
          "output_type": "stream",
          "name": "stdout",
          "text": [
            "[0.         0.00995025 0.00995025 0.01492537 0.01492537 0.0199005\n",
            " 0.0199005  0.02487562 0.02487562 0.02985075 0.02985075 0.04477612\n",
            " 0.04477612 0.1840796  0.1840796  0.31343284 0.31343284 0.39800995\n",
            " 0.39800995 0.49253731 0.49253731 1.         1.        ] [0.         0.01005025 0.87939698 0.87939698 0.91959799 0.91959799\n",
            " 0.95979899 0.95979899 0.96482412 0.96482412 0.96984925 0.96984925\n",
            " 0.97487437 0.97487437 0.9798995  0.9798995  0.98492462 0.98492462\n",
            " 0.98994975 0.98994975 0.99497487 0.99497487 1.        ] [2.0000000e+00 1.0000000e+00 7.4758440e-01 7.4632877e-01 6.5021908e-01\n",
            " 6.1938322e-01 5.7298315e-01 5.7055378e-01 5.3486991e-01 5.3229457e-01\n",
            " 5.3207386e-01 5.0363237e-01 4.9833217e-01 1.6428337e-01 1.5470356e-01\n",
            " 4.8587624e-02 4.8092023e-02 2.1430820e-02 2.1201009e-02 1.1236161e-02\n",
            " 1.0881030e-02 1.8977293e-10 0.0000000e+00]\n"
          ]
        }
      ]
    },
    {
      "cell_type": "code",
      "source": [
        "# print(y_pred)\n",
        "import matplotlib.pyplot as plt\n",
        "plt.plot(X[-10])\n",
        "plt.show()"
      ],
      "metadata": {
        "colab": {
          "base_uri": "https://localhost:8080/",
          "height": 430
        },
        "id": "F7OQq_ZR0qjY",
        "outputId": "070c5a16-ea25-480c-e5d0-0bc0bb841285"
      },
      "execution_count": null,
      "outputs": [
        {
          "output_type": "display_data",
          "data": {
            "text/plain": [
              "<Figure size 640x480 with 1 Axes>"
            ],
            "image/png": "[encoded data removed]"
          },
          "metadata": {}
        }
      ]
    },
    {
      "cell_type": "code",
      "source": [
        "fig1, ax1 = plt.subplots(figsize=(8, 6))\n",
        "fig2, ax2 = plt.subplots(figsize=(8, 6))\n",
        "y_min = -40\n",
        "y_max = 40\n",
        "# Plot the first set of data in the first figure\n",
        "ax1.plot(X[0])\n",
        "ax1.set_title('Waveform 1')\n",
        "ax1.set_xlabel('Sample Index')\n",
        "ax1.set_ylabel('Amplitude')\n",
        "ax1.set_ylim(y_min, y_max)  # Set the same y-axis limits for both plots\n",
        "# Plot the second set of data in the second figure\n",
        "ax2.plot(X[-10])\n",
        "ax2.set_title('Waveform 2')\n",
        "ax2.set_xlabel('Sample Index')\n",
        "ax2.set_ylabel('Amplitude')\n",
        "ax2.set_ylim(y_min, y_max)  # Set the same y-axis limits for both plots\n",
        "# Show both plots\n",
        "plt.show()"
      ],
      "metadata": {
        "colab": {
          "base_uri": "https://localhost:8080/",
          "height": 1000
        },
        "id": "ur3V0_eP4q0q",
        "outputId": "96ceaa32-2521-4ea0-eb94-d884eed2d6fc"
      },
      "execution_count": null,
      "outputs": [
        {
          "output_type": "display_data",
          "data": {
            "text/plain": [
              "<Figure size 800x600 with 1 Axes>"
            ],
            "image/png": "[encoded data removed]"
          },
          "metadata": {}
        },
        {
          "output_type": "display_data",
          "data": {
            "text/plain": [
              "<Figure size 800x600 with 1 Axes>"
            ],
            "image/png": "[encoded data removed]"
          },
          "metadata": {}
        }
      ]
    },
    {
      "cell_type": "code",
      "source": [
        "event_df = pd.read_csv(\"/content/drive/MyDrive/dataset/sample dataset/metadata_Instance_events_10k.csv\")"
      ],
      "metadata": {
        "id": "nO1gLkWioSmu"
      },
      "execution_count": null,
      "outputs": []
    },
    {
      "cell_type": "code",
      "source": [
        "noise_df = pd.read_csv(\"/content/drive/MyDrive/dataset/sample dataset/metadata_Instance_noise_1k.csv\")"
      ],
      "metadata": {
        "id": "_7B1PhvzCFYM"
      },
      "execution_count": null,
      "outputs": []
    },
    {
      "cell_type": "code",
      "source": [
        "event_df = event_df[:1000]"
      ],
      "metadata": {
        "id": "GKed-5KLCtR4"
      },
      "execution_count": null,
      "outputs": []
    },
    {
      "cell_type": "code",
      "source": [
        "event_df.groupby(\"station_channels\")['station_channels'].count()"
      ],
      "metadata": {
        "colab": {
          "base_uri": "https://localhost:8080/"
        },
        "id": "s_J1AdzaCvXv",
        "outputId": "432be521-cbfd-43c5-c609-9e034edeb0fe"
      },
      "execution_count": null,
      "outputs": [
        {
          "output_type": "execute_result",
          "data": {
            "text/plain": [
              "station_channels\n",
              "EH    283\n",
              "HH    323\n",
              "HL      3\n",
              "HN    391\n",
              "Name: station_channels, dtype: int64"
            ]
          },
          "metadata": {},
          "execution_count": 24
        }
      ]
    },
    {
      "cell_type": "code",
      "source": [
        "noise_df.groupby(\"station_channels\")['station_channels'].count()"
      ],
      "metadata": {
        "colab": {
          "base_uri": "https://localhost:8080/"
        },
        "id": "xFziX_5mCwIZ",
        "outputId": "5862ee61-0dea-42b2-ddca-31d4f1c5e6ed"
      },
      "execution_count": null,
      "outputs": [
        {
          "output_type": "execute_result",
          "data": {
            "text/plain": [
              "station_channels\n",
              "EH    195\n",
              "EN      1\n",
              "HH    501\n",
              "HL      4\n",
              "HN    299\n",
              "Name: station_channels, dtype: int64"
            ]
          },
          "metadata": {},
          "execution_count": 22
        }
      ]
    },
    {
      "cell_type": "code",
      "source": [
        "data = pd.read_csv('/content/drive/MyDrive/dataset/sample dataset/cnn_model_input.csv')\n",
        "# Extract features and labels\n",
        "X = df.iloc[:, :-1].values  # Features (all columns except the last one)\n",
        "Y = df.iloc[:, -1].values   # Labels (the last column)\n"
      ],
      "metadata": {
        "id": "UvDm6AIRC46S"
      },
      "execution_count": null,
      "outputs": []
    },
    {
      "cell_type": "code",
      "source": [
        "from sklearn.utils import shuffle\n",
        "\n",
        "\n",
        "# Assuming you have X (waveform data) and y (category labels)\n",
        "X_shuffled, y_shuffled = shuffle(X, Y, random_state=42)\n",
        "\n",
        "from sklearn.ensemble import RandomForestClassifier\n",
        "from sklearn.model_selection import train_test_split\n",
        "from sklearn.metrics import accuracy_score\n",
        "\n",
        "# Assuming X contains your waveform data and y contains category labels\n",
        "X_train, X_test, y_train, y_test = train_test_split(X, Y, test_size=0.2, random_state=42,stratify=Y)\n",
        "\n",
        "# Create and train a Random Forest classifier\n",
        "clf = RandomForestClassifier(n_estimators=100, random_state=42)\n",
        "clf.fit(X_train, y_train)\n",
        "\n",
        "# Make predictions on the test set\n",
        "y_pred = clf.predict(X_test)\n",
        "\n",
        "# Evaluate the classifier's performance\n",
        "accuracy = accuracy_score(y_test, y_pred)\n",
        "print(\"Accuracy:\", accuracy)"
      ],
      "metadata": {
        "colab": {
          "base_uri": "https://localhost:8080/"
        },
        "id": "NyNjq_C5EigC",
        "outputId": "e95dfaa5-28db-42a8-ecbb-3d9ef2cb46a3"
      },
      "execution_count": null,
      "outputs": [
        {
          "output_type": "stream",
          "name": "stdout",
          "text": [
            "Accuracy: 0.875\n"
          ]
        }
      ]
    },
    {
      "cell_type": "code",
      "source": [
        "event_df[['source_origin_time','trace_start_time']].iloc[0]"
      ],
      "metadata": {
        "colab": {
          "base_uri": "https://localhost:8080/"
        },
        "id": "zAQmo12pE8pM",
        "outputId": "b8584ad4-167c-457b-b5af-837872715c16"
      },
      "execution_count": null,
      "outputs": [
        {
          "output_type": "execute_result",
          "data": {
            "text/plain": [
              "source_origin_time    2016-12-04T15:34:52.05Z\n",
              "trace_start_time      2016-12-04T15:34:43.92Z\n",
              "Name: 0, dtype: object"
            ]
          },
          "metadata": {},
          "execution_count": 46
        }
      ]
    },
    {
      "cell_type": "code",
      "source": [
        "event_df[-2:]['trace_name']"
      ],
      "metadata": {
        "colab": {
          "base_uri": "https://localhost:8080/"
        },
        "id": "kNpH3wuIHIdg",
        "outputId": "0c1de64d-36a0-4296-e655-ad0cf6fc8050"
      },
      "execution_count": null,
      "outputs": [
        {
          "output_type": "execute_result",
          "data": {
            "text/plain": [
              "998    11052061.IV.T1256..HN\n",
              "999     11052061.IV.TERO..HH\n",
              "Name: trace_name, dtype: object"
            ]
          },
          "metadata": {},
          "execution_count": 51
        }
      ]
    },
    {
      "cell_type": "code",
      "source": [
        "noise_df[-2:]"
      ],
      "metadata": {
        "colab": {
          "base_uri": "https://localhost:8080/",
          "height": 196
        },
        "id": "d1g5y1ByIGtC",
        "outputId": "564193ad-1096-4f2c-8d4c-ae0127f2175c"
      },
      "execution_count": null,
      "outputs": [
        {
          "output_type": "execute_result",
          "data": {
            "text/plain": [
              "           source_id station_network_code station_code  station_location_code  \\\n",
              "998  20170507T122954                   IV        T1216                    NaN   \n",
              "999  20190813T130147                   IV         CESX                    NaN   \n",
              "\n",
              "    station_channels  station_latitude_deg  station_longitude_deg  \\\n",
              "998               EH             42.890667               13.01900   \n",
              "999               HH             42.608486               12.58676   \n",
              "\n",
              "     station_elevation_m  station_vs_30_mps          station_vs_30_detail  \\\n",
              "998                620.0              547.0  Vs30 extracted from ShakeMap   \n",
              "999                380.0              669.0  Vs30 extracted from ShakeMap   \n",
              "\n",
              "     ... trace_Z_upper_quartile_counts  trace_E_spikes  trace_N_spikes  \\\n",
              "998  ...                           3.0             0.0             0.0   \n",
              "999  ...                          16.0             0.0             0.0   \n",
              "\n",
              "     trace_Z_spikes                    trace_name  trace_GPD_P_number  \\\n",
              "998             0.0  20170507T122954.IV.T1216..EH                   1   \n",
              "999             0.0   20190813T130147.IV.CESX..HH                   0   \n",
              "\n",
              "     trace_GPD_S_number  trace_EQT_number_detections  trace_EQT_P_number  \\\n",
              "998                   4                          0.0                 0.0   \n",
              "999                   0                          0.0                 0.0   \n",
              "\n",
              "     trace_EQT_S_number  \n",
              "998                 0.0  \n",
              "999                 0.0  \n",
              "\n",
              "[2 rows x 43 columns]"
            ],
            "text/html": [
              "\n",
              "  <div id=\"df-cd0cb10f-ed73-4b08-b416-fd6fd8734283\" class=\"colab-df-container\">\n",
              "    <div>\n",
              "<style scoped>\n",
              "    .dataframe tbody tr th:only-of-type {\n",
              "        vertical-align: middle;\n",
              "    }\n",
              "\n",
              "    .dataframe tbody tr th {\n",
              "        vertical-align: top;\n",
              "    }\n",
              "\n",
              "    .dataframe thead th {\n",
              "        text-align: right;\n",
              "    }\n",
              "</style>\n",
              "<table border=\"1\" class=\"dataframe\">\n",
              "  <thead>\n",
              "    <tr style=\"text-align: right;\">\n",
              "      <th></th>\n",
              "      <th>source_id</th>\n",
              "      <th>station_network_code</th>\n",
              "      <th>station_code</th>\n",
              "      <th>station_location_code</th>\n",
              "      <th>station_channels</th>\n",
              "      <th>station_latitude_deg</th>\n",
              "      <th>station_longitude_deg</th>\n",
              "      <th>station_elevation_m</th>\n",
              "      <th>station_vs_30_mps</th>\n",
              "      <th>station_vs_30_detail</th>\n",
              "      <th>...</th>\n",
              "      <th>trace_Z_upper_quartile_counts</th>\n",
              "      <th>trace_E_spikes</th>\n",
              "      <th>trace_N_spikes</th>\n",
              "      <th>trace_Z_spikes</th>\n",
              "      <th>trace_name</th>\n",
              "      <th>trace_GPD_P_number</th>\n",
              "      <th>trace_GPD_S_number</th>\n",
              "      <th>trace_EQT_number_detections</th>\n",
              "      <th>trace_EQT_P_number</th>\n",
              "      <th>trace_EQT_S_number</th>\n",
              "    </tr>\n",
              "  </thead>\n",
              "  <tbody>\n",
              "    <tr>\n",
              "      <th>998</th>\n",
              "      <td>20170507T122954</td>\n",
              "      <td>IV</td>\n",
              "      <td>T1216</td>\n",
              "      <td>NaN</td>\n",
              "      <td>EH</td>\n",
              "      <td>42.890667</td>\n",
              "      <td>13.01900</td>\n",
              "      <td>620.0</td>\n",
              "      <td>547.0</td>\n",
              "      <td>Vs30 extracted from ShakeMap</td>\n",
              "      <td>...</td>\n",
              "      <td>3.0</td>\n",
              "      <td>0.0</td>\n",
              "      <td>0.0</td>\n",
              "      <td>0.0</td>\n",
              "      <td>20170507T122954.IV.T1216..EH</td>\n",
              "      <td>1</td>\n",
              "      <td>4</td>\n",
              "      <td>0.0</td>\n",
              "      <td>0.0</td>\n",
              "      <td>0.0</td>\n",
              "    </tr>\n",
              "    <tr>\n",
              "      <th>999</th>\n",
              "      <td>20190813T130147</td>\n",
              "      <td>IV</td>\n",
              "      <td>CESX</td>\n",
              "      <td>NaN</td>\n",
              "      <td>HH</td>\n",
              "      <td>42.608486</td>\n",
              "      <td>12.58676</td>\n",
              "      <td>380.0</td>\n",
              "      <td>669.0</td>\n",
              "      <td>Vs30 extracted from ShakeMap</td>\n",
              "      <td>...</td>\n",
              "      <td>16.0</td>\n",
              "      <td>0.0</td>\n",
              "      <td>0.0</td>\n",
              "      <td>0.0</td>\n",
              "      <td>20190813T130147.IV.CESX..HH</td>\n",
              "      <td>0</td>\n",
              "      <td>0</td>\n",
              "      <td>0.0</td>\n",
              "      <td>0.0</td>\n",
              "      <td>0.0</td>\n",
              "    </tr>\n",
              "  </tbody>\n",
              "</table>\n",
              "<p>2 rows × 43 columns</p>\n",
              "</div>\n",
              "    <div class=\"colab-df-buttons\">\n",
              "\n",
              "  <div class=\"colab-df-container\">\n",
              "    <button class=\"colab-df-convert\" onclick=\"convertToInteractive('df-cd0cb10f-ed73-4b08-b416-fd6fd8734283')\"\n",
              "            title=\"Convert this dataframe to an interactive table.\"\n",
              "            style=\"display:none;\">\n",
              "\n",
              "  <svg xmlns=\"http://www.w3.org/2000/svg\" height=\"24px\" viewBox=\"0 -960 960 960\">\n",
              "    <path d=\"M120-120v-720h720v720H120Zm60-500h600v-160H180v160Zm220 220h160v-160H400v160Zm0 220h160v-160H400v160ZM180-400h160v-160H180v160Zm440 0h160v-160H620v160ZM180-180h160v-160H180v160Zm440 0h160v-160H620v160Z\"/>\n",
              "  </svg>\n",
              "    </button>\n",
              "\n",
              "  <style>\n",
              "    .colab-df-container {\n",
              "      display:flex;\n",
              "      gap: 12px;\n",
              "    }\n",
              "\n",
              "    .colab-df-convert {\n",
              "      background-color: #E8F0FE;\n",
              "      border: none;\n",
              "      border-radius: 50%;\n",
              "      cursor: pointer;\n",
              "      display: none;\n",
              "      fill: #1967D2;\n",
              "      height: 32px;\n",
              "      padding: 0 0 0 0;\n",
              "      width: 32px;\n",
              "    }\n",
              "\n",
              "    .colab-df-convert:hover {\n",
              "      background-color: #E2EBFA;\n",
              "      box-shadow: 0px 1px 2px rgba(60, 64, 67, 0.3), 0px 1px 3px 1px rgba(60, 64, 67, 0.15);\n",
              "      fill: #174EA6;\n",
              "    }\n",
              "\n",
              "    .colab-df-buttons div {\n",
              "      margin-bottom: 4px;\n",
              "    }\n",
              "\n",
              "    [theme=dark] .colab-df-convert {\n",
              "      background-color: #3B4455;\n",
              "      fill: #D2E3FC;\n",
              "    }\n",
              "\n",
              "    [theme=dark] .colab-df-convert:hover {\n",
              "      background-color: #434B5C;\n",
              "      box-shadow: 0px 1px 3px 1px rgba(0, 0, 0, 0.15);\n",
              "      filter: drop-shadow(0px 1px 2px rgba(0, 0, 0, 0.3));\n",
              "      fill: #FFFFFF;\n",
              "    }\n",
              "  </style>\n",
              "\n",
              "    <script>\n",
              "      const buttonEl =\n",
              "        document.querySelector('#df-cd0cb10f-ed73-4b08-b416-fd6fd8734283 button.colab-df-convert');\n",
              "      buttonEl.style.display =\n",
              "        google.colab.kernel.accessAllowed ? 'block' : 'none';\n",
              "\n",
              "      async function convertToInteractive(key) {\n",
              "        const element = document.querySelector('#df-cd0cb10f-ed73-4b08-b416-fd6fd8734283');\n",
              "        const dataTable =\n",
              "          await google.colab.kernel.invokeFunction('convertToInteractive',\n",
              "                                                    [key], {});\n",
              "        if (!dataTable) return;\n",
              "\n",
              "        const docLinkHtml = 'Like what you see? Visit the ' +\n",
              "          '<a target=\"_blank\" href=https://colab.research.google.com/notebooks/data_table.ipynb>data table notebook</a>'\n",
              "          + ' to learn more about interactive tables.';\n",
              "        element.innerHTML = '';\n",
              "        dataTable['output_type'] = 'display_data';\n",
              "        await google.colab.output.renderOutput(dataTable, element);\n",
              "        const docLink = document.createElement('div');\n",
              "        docLink.innerHTML = docLinkHtml;\n",
              "        element.appendChild(docLink);\n",
              "      }\n",
              "    </script>\n",
              "  </div>\n",
              "\n",
              "\n",
              "<div id=\"df-2afc035a-d4aa-4aa1-a476-0d333804d44f\">\n",
              "  <button class=\"colab-df-quickchart\" onclick=\"quickchart('df-2afc035a-d4aa-4aa1-a476-0d333804d44f')\"\n",
              "            title=\"Suggest charts.\"\n",
              "            style=\"display:none;\">\n",
              "\n",
              "<svg xmlns=\"http://www.w3.org/2000/svg\" height=\"24px\"viewBox=\"0 0 24 24\"\n",
              "     width=\"24px\">\n",
              "    <g>\n",
              "        <path d=\"M19 3H5c-1.1 0-2 .9-2 2v14c0 1.1.9 2 2 2h14c1.1 0 2-.9 2-2V5c0-1.1-.9-2-2-2zM9 17H7v-7h2v7zm4 0h-2V7h2v10zm4 0h-2v-4h2v4z\"/>\n",
              "    </g>\n",
              "</svg>\n",
              "  </button>\n",
              "\n",
              "<style>\n",
              "  .colab-df-quickchart {\n",
              "      --bg-color: #E8F0FE;\n",
              "      --fill-color: #1967D2;\n",
              "      --hover-bg-color: #E2EBFA;\n",
              "      --hover-fill-color: #174EA6;\n",
              "      --disabled-fill-color: #AAA;\n",
              "      --disabled-bg-color: #DDD;\n",
              "  }\n",
              "\n",
              "  [theme=dark] .colab-df-quickchart {\n",
              "      --bg-color: #3B4455;\n",
              "      --fill-color: #D2E3FC;\n",
              "      --hover-bg-color: #434B5C;\n",
              "      --hover-fill-color: #FFFFFF;\n",
              "      --disabled-bg-color: #3B4455;\n",
              "      --disabled-fill-color: #666;\n",
              "  }\n",
              "\n",
              "  .colab-df-quickchart {\n",
              "    background-color: var(--bg-color);\n",
              "    border: none;\n",
              "    border-radius: 50%;\n",
              "    cursor: pointer;\n",
              "    display: none;\n",
              "    fill: var(--fill-color);\n",
              "    height: 32px;\n",
              "    padding: 0;\n",
              "    width: 32px;\n",
              "  }\n",
              "\n",
              "  .colab-df-quickchart:hover {\n",
              "    background-color: var(--hover-bg-color);\n",
              "    box-shadow: 0 1px 2px rgba(60, 64, 67, 0.3), 0 1px 3px 1px rgba(60, 64, 67, 0.15);\n",
              "    fill: var(--button-hover-fill-color);\n",
              "  }\n",
              "\n",
              "  .colab-df-quickchart-complete:disabled,\n",
              "  .colab-df-quickchart-complete:disabled:hover {\n",
              "    background-color: var(--disabled-bg-color);\n",
              "    fill: var(--disabled-fill-color);\n",
              "    box-shadow: none;\n",
              "  }\n",
              "\n",
              "  .colab-df-spinner {\n",
              "    border: 2px solid var(--fill-color);\n",
              "    border-color: transparent;\n",
              "    border-bottom-color: var(--fill-color);\n",
              "    animation:\n",
              "      spin 1s steps(1) infinite;\n",
              "  }\n",
              "\n",
              "  @keyframes spin {\n",
              "    0% {\n",
              "      border-color: transparent;\n",
              "      border-bottom-color: var(--fill-color);\n",
              "      border-left-color: var(--fill-color);\n",
              "    }\n",
              "    20% {\n",
              "      border-color: transparent;\n",
              "      border-left-color: var(--fill-color);\n",
              "      border-top-color: var(--fill-color);\n",
              "    }\n",
              "    30% {\n",
              "      border-color: transparent;\n",
              "      border-left-color: var(--fill-color);\n",
              "      border-top-color: var(--fill-color);\n",
              "      border-right-color: var(--fill-color);\n",
              "    }\n",
              "    40% {\n",
              "      border-color: transparent;\n",
              "      border-right-color: var(--fill-color);\n",
              "      border-top-color: var(--fill-color);\n",
              "    }\n",
              "    60% {\n",
              "      border-color: transparent;\n",
              "      border-right-color: var(--fill-color);\n",
              "    }\n",
              "    80% {\n",
              "      border-color: transparent;\n",
              "      border-right-color: var(--fill-color);\n",
              "      border-bottom-color: var(--fill-color);\n",
              "    }\n",
              "    90% {\n",
              "      border-color: transparent;\n",
              "      border-bottom-color: var(--fill-color);\n",
              "    }\n",
              "  }\n",
              "</style>\n",
              "\n",
              "  <script>\n",
              "    async function quickchart(key) {\n",
              "      const quickchartButtonEl =\n",
              "        document.querySelector('#' + key + ' button');\n",
              "      quickchartButtonEl.disabled = true;  // To prevent multiple clicks.\n",
              "      quickchartButtonEl.classList.add('colab-df-spinner');\n",
              "      try {\n",
              "        const charts = await google.colab.kernel.invokeFunction(\n",
              "            'suggestCharts', [key], {});\n",
              "      } catch (error) {\n",
              "        console.error('Error during call to suggestCharts:', error);\n",
              "      }\n",
              "      quickchartButtonEl.classList.remove('colab-df-spinner');\n",
              "      quickchartButtonEl.classList.add('colab-df-quickchart-complete');\n",
              "    }\n",
              "    (() => {\n",
              "      let quickchartButtonEl =\n",
              "        document.querySelector('#df-2afc035a-d4aa-4aa1-a476-0d333804d44f button');\n",
              "      quickchartButtonEl.style.display =\n",
              "        google.colab.kernel.accessAllowed ? 'block' : 'none';\n",
              "    })();\n",
              "  </script>\n",
              "</div>\n",
              "    </div>\n",
              "  </div>\n"
            ]
          },
          "metadata": {},
          "execution_count": 50
        }
      ]
    },
    {
      "cell_type": "code",
      "source": [
        "import h5py\n",
        "filename = \"/content/drive/MyDrive/dataset/sample dataset/Instance_events_counts_10k.hdf5\"\n",
        "file = h5py.File(filename,\"r\")\n",
        "data = file[\"data\"]\n",
        "dataset = data['11052061.IV.TERO..HH']"
      ],
      "metadata": {
        "colab": {
          "base_uri": "https://localhost:8080/"
        },
        "id": "UecmSOzPIetF",
        "outputId": "d2e96ab3-9015-45b6-9bce-136c206c2ba2"
      },
      "execution_count": null,
      "outputs": [
        {
          "output_type": "execute_result",
          "data": {
            "text/plain": [
              "12000"
            ]
          },
          "metadata": {},
          "execution_count": 52
        }
      ]
    },
    {
      "cell_type": "code",
      "source": [
        "dataset[:,:1000].reshape(-1).shape"
      ],
      "metadata": {
        "colab": {
          "base_uri": "https://localhost:8080/"
        },
        "id": "mLPj7DnDKf3v",
        "outputId": "5208a79c-f25c-4a0d-80b8-77d7344e020e"
      },
      "execution_count": null,
      "outputs": [
        {
          "output_type": "execute_result",
          "data": {
            "text/plain": [
              "(3000,)"
            ]
          },
          "metadata": {},
          "execution_count": 104
        }
      ]
    },
    {
      "cell_type": "code",
      "source": [
        "event_data_point_1 = np.array(dataset)[:,:1000].reshape(-1)"
      ],
      "metadata": {
        "id": "DhtCmucsKEPX"
      },
      "execution_count": null,
      "outputs": []
    },
    {
      "cell_type": "code",
      "source": [
        "X_test[0].shape"
      ],
      "metadata": {
        "colab": {
          "base_uri": "https://localhost:8080/"
        },
        "id": "SD9zn114JnB_",
        "outputId": "37055246-6b03-4222-d860-f00624c9e015"
      },
      "execution_count": null,
      "outputs": [
        {
          "output_type": "execute_result",
          "data": {
            "text/plain": [
              "(3001,)"
            ]
          },
          "metadata": {},
          "execution_count": 116
        }
      ]
    },
    {
      "cell_type": "code",
      "source": [
        "event_data_point_1.shape"
      ],
      "metadata": {
        "colab": {
          "base_uri": "https://localhost:8080/"
        },
        "id": "txR5xVbUJrnV",
        "outputId": "dae69c8d-2509-439f-dea9-1933921983b6"
      },
      "execution_count": null,
      "outputs": [
        {
          "output_type": "execute_result",
          "data": {
            "text/plain": [
              "(3003,)"
            ]
          },
          "metadata": {},
          "execution_count": 91
        }
      ]
    },
    {
      "cell_type": "code",
      "source": [
        "y_pred = model.predict(event_data_point_1)"
      ],
      "metadata": {
        "colab": {
          "base_uri": "https://localhost:8080/",
          "height": 702
        },
        "id": "HhXwq0PGIp3J",
        "outputId": "2048fe82-9014-41a0-87ac-62f4ddba0eb7"
      },
      "execution_count": null,
      "outputs": [
        {
          "output_type": "error",
          "ename": "ValueError",
          "evalue": "ignored",
          "traceback": [
            "\u001b[0;31m---------------------------------------------------------------------------\u001b[0m",
            "\u001b[0;31mValueError\u001b[0m                                Traceback (most recent call last)",
            "\u001b[0;32m<ipython-input-88-ccf04f4967cf>\u001b[0m in \u001b[0;36m<cell line: 1>\u001b[0;34m()\u001b[0m\n\u001b[0;32m----> 1\u001b[0;31m \u001b[0my_pred\u001b[0m \u001b[0;34m=\u001b[0m \u001b[0mmodel\u001b[0m\u001b[0;34m.\u001b[0m\u001b[0mpredict\u001b[0m\u001b[0;34m(\u001b[0m\u001b[0mevent_data_point_1\u001b[0m\u001b[0;34m)\u001b[0m\u001b[0;34m\u001b[0m\u001b[0;34m\u001b[0m\u001b[0m\n\u001b[0m",
            "\u001b[0;32m/usr/local/lib/python3.10/dist-packages/keras/src/utils/traceback_utils.py\u001b[0m in \u001b[0;36merror_handler\u001b[0;34m(*args, **kwargs)\u001b[0m\n\u001b[1;32m     68\u001b[0m             \u001b[0;31m# To get the full stack trace, call:\u001b[0m\u001b[0;34m\u001b[0m\u001b[0;34m\u001b[0m\u001b[0m\n\u001b[1;32m     69\u001b[0m             \u001b[0;31m# `tf.debugging.disable_traceback_filtering()`\u001b[0m\u001b[0;34m\u001b[0m\u001b[0;34m\u001b[0m\u001b[0m\n\u001b[0;32m---> 70\u001b[0;31m             \u001b[0;32mraise\u001b[0m \u001b[0me\u001b[0m\u001b[0;34m.\u001b[0m\u001b[0mwith_traceback\u001b[0m\u001b[0;34m(\u001b[0m\u001b[0mfiltered_tb\u001b[0m\u001b[0;34m)\u001b[0m \u001b[0;32mfrom\u001b[0m \u001b[0;32mNone\u001b[0m\u001b[0;34m\u001b[0m\u001b[0;34m\u001b[0m\u001b[0m\n\u001b[0m\u001b[1;32m     71\u001b[0m         \u001b[0;32mfinally\u001b[0m\u001b[0;34m:\u001b[0m\u001b[0;34m\u001b[0m\u001b[0;34m\u001b[0m\u001b[0m\n\u001b[1;32m     72\u001b[0m             \u001b[0;32mdel\u001b[0m \u001b[0mfiltered_tb\u001b[0m\u001b[0;34m\u001b[0m\u001b[0;34m\u001b[0m\u001b[0m\n",
            "\u001b[0;32m/usr/local/lib/python3.10/dist-packages/keras/src/engine/training.py\u001b[0m in \u001b[0;36mtf__predict_function\u001b[0;34m(iterator)\u001b[0m\n\u001b[1;32m     13\u001b[0m                 \u001b[0;32mtry\u001b[0m\u001b[0;34m:\u001b[0m\u001b[0;34m\u001b[0m\u001b[0;34m\u001b[0m\u001b[0m\n\u001b[1;32m     14\u001b[0m                     \u001b[0mdo_return\u001b[0m \u001b[0;34m=\u001b[0m \u001b[0;32mTrue\u001b[0m\u001b[0;34m\u001b[0m\u001b[0;34m\u001b[0m\u001b[0m\n\u001b[0;32m---> 15\u001b[0;31m                     \u001b[0mretval_\u001b[0m \u001b[0;34m=\u001b[0m \u001b[0mag__\u001b[0m\u001b[0;34m.\u001b[0m\u001b[0mconverted_call\u001b[0m\u001b[0;34m(\u001b[0m\u001b[0mag__\u001b[0m\u001b[0;34m.\u001b[0m\u001b[0mld\u001b[0m\u001b[0;34m(\u001b[0m\u001b[0mstep_function\u001b[0m\u001b[0;34m)\u001b[0m\u001b[0;34m,\u001b[0m \u001b[0;34m(\u001b[0m\u001b[0mag__\u001b[0m\u001b[0;34m.\u001b[0m\u001b[0mld\u001b[0m\u001b[0;34m(\u001b[0m\u001b[0mself\u001b[0m\u001b[0;34m)\u001b[0m\u001b[0;34m,\u001b[0m \u001b[0mag__\u001b[0m\u001b[0;34m.\u001b[0m\u001b[0mld\u001b[0m\u001b[0;34m(\u001b[0m\u001b[0miterator\u001b[0m\u001b[0;34m)\u001b[0m\u001b[0;34m)\u001b[0m\u001b[0;34m,\u001b[0m \u001b[0;32mNone\u001b[0m\u001b[0;34m,\u001b[0m \u001b[0mfscope\u001b[0m\u001b[0;34m)\u001b[0m\u001b[0;34m\u001b[0m\u001b[0;34m\u001b[0m\u001b[0m\n\u001b[0m\u001b[1;32m     16\u001b[0m                 \u001b[0;32mexcept\u001b[0m\u001b[0;34m:\u001b[0m\u001b[0;34m\u001b[0m\u001b[0;34m\u001b[0m\u001b[0m\n\u001b[1;32m     17\u001b[0m                     \u001b[0mdo_return\u001b[0m \u001b[0;34m=\u001b[0m \u001b[0;32mFalse\u001b[0m\u001b[0;34m\u001b[0m\u001b[0;34m\u001b[0m\u001b[0m\n",
            "\u001b[0;31mValueError\u001b[0m: in user code:\n\n    File \"/usr/local/lib/python3.10/dist-packages/keras/src/engine/training.py\", line 2341, in predict_function  *\n        return step_function(self, iterator)\n    File \"/usr/local/lib/python3.10/dist-packages/keras/src/engine/training.py\", line 2327, in step_function  **\n        outputs = model.distribute_strategy.run(run_step, args=(data,))\n    File \"/usr/local/lib/python3.10/dist-packages/keras/src/engine/training.py\", line 2315, in run_step  **\n        outputs = model.predict_step(data)\n    File \"/usr/local/lib/python3.10/dist-packages/keras/src/engine/training.py\", line 2283, in predict_step\n        return self(x, training=False)\n    File \"/usr/local/lib/python3.10/dist-packages/keras/src/utils/traceback_utils.py\", line 70, in error_handler\n        raise e.with_traceback(filtered_tb) from None\n    File \"/usr/local/lib/python3.10/dist-packages/keras/src/engine/input_spec.py\", line 253, in assert_input_compatibility\n        raise ValueError(\n\n    ValueError: Exception encountered when calling layer 'sequential_6' (type Sequential).\n    \n    Input 0 of layer \"dense_18\" is incompatible with the layer: expected min_ndim=2, found ndim=1. Full shape received: (None,)\n    \n    Call arguments received by layer 'sequential_6' (type Sequential):\n      • inputs=tf.Tensor(shape=(None,), dtype=int32)\n      • training=False\n      • mask=None\n"
          ]
        }
      ]
    },
    {
      "cell_type": "code",
      "source": [],
      "metadata": {
        "id": "WWlbxItCJGP9"
      },
      "execution_count": null,
      "outputs": []
    }
  ]
}